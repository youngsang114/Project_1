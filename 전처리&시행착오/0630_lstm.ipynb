{
 "cells": [
  {
   "cell_type": "code",
   "execution_count": 33,
   "metadata": {},
   "outputs": [],
   "source": [
    "import pandas as pd\n",
    "import numpy as np\n",
    "import matplotlib.pyplot as plt\n",
    "import seaborn as sns\n",
    "pd.options.display.float_format = '{:.6f}'.format  \n",
    "\n",
    "# 그래프에서 한글 깨짐 방지\n",
    "import platform\n",
    "if platform.system() == \"Darwin\":          # MAC인 경우\n",
    "    plt.rc('font', family =\"AppleGothic\")\n",
    "else:\n",
    "    plt.rc('font',family='Malgun Gothic')\n",
    "\n",
    "#멧플로립에서 음수를 표시\n",
    "plt.rc('axes',unicode_minus=False)\n",
    "\n",
    "#워닝 메시지\n",
    "import warnings\n",
    "warnings.filterwarnings('ignore')\n"
   ]
  },
  {
   "cell_type": "code",
   "execution_count": 34,
   "metadata": {},
   "outputs": [],
   "source": [
    "import numpy as np\n",
    "import matplotlib.pyplot as plt\n",
    "from sklearn.preprocessing import MinMaxScaler, StandardScaler\n",
    "from sklearn.metrics import mean_squared_error\n",
    "from sklearn.model_selection import train_test_split\n",
    "\n",
    "import tensorflow as tf\n",
    "from tensorflow.keras.models import Sequential\n",
    "from tensorflow.keras.layers import LSTM, Dense\n",
    "from tensorflow.keras.callbacks import EarlyStopping\n"
   ]
  },
  {
   "attachments": {},
   "cell_type": "markdown",
   "metadata": {},
   "source": [
    "## 1.스케일링(standard_scale)"
   ]
  },
  {
   "cell_type": "code",
   "execution_count": 35,
   "metadata": {},
   "outputs": [
    {
     "name": "stdout",
     "output_type": "stream",
     "text": [
      "[[ 0.93589755  1.43327182 -0.74157178 ...  2.07114449 -1.74913464\n",
      "  -1.49457805]\n",
      " [ 0.80523213  1.42294476 -0.75485022 ...  2.01342627 -1.57284691\n",
      "  -1.75012721]\n",
      " [ 0.7220814   1.26803893 -0.75485022 ...  2.85611229 -1.33988349\n",
      "  -1.81061445]\n",
      " ...\n",
      " [-1.58238152 -0.73540982  0.37381684 ... -0.75285063  1.76937084\n",
      "  -0.3938106 ]\n",
      " [-1.61801754 -0.73540982 -0.40961088 ... -0.59701144  1.4817088\n",
      "  -0.27075728]\n",
      " [-1.66553224 -0.61148516 -0.3432187  ... -0.94751845  1.95422583\n",
      "  -0.27316174]]\n"
     ]
    }
   ],
   "source": [
    "df=pd.read_csv('./datasets/원본data.csv',index_col=0)\n",
    "df=df.drop(['원위안', '유가', '은', '외환보유액','구리'],axis=1) # G7 이미 삭제된 데이터셋\n",
    "dataset =df.values\n",
    "# dataset=df[['재고순환지표','경제심리지수','수출입물가비율','코스피','장단기','원달러','CD','G20','종가']].values\n",
    "scaler=StandardScaler()\n",
    "dataset= scaler.fit_transform(dataset)\n",
    "print(dataset)"
   ]
  },
  {
   "attachments": {},
   "cell_type": "markdown",
   "metadata": {},
   "source": [
    "- scaled_df : 5개의 feature 삭제하고 남은 전체 데이터프레임\n",
    "- feature_df : scaled_df중 종가를 제외한 부분\n",
    "- label_df : scaled_df의 종가 부분"
   ]
  },
  {
   "cell_type": "code",
   "execution_count": 36,
   "metadata": {},
   "outputs": [],
   "source": [
    "scaled_df = pd.DataFrame(dataset, columns=df.columns,index=df.index)\n",
    "feature_df = scaled_df[['재고순환지표', '경제심리지수', '기계류내수출', '건설수주액', '수출입물가비율', '코스피', '장단기', '뉴스심리지수', '원달러', '원엔', 'CD', 'G20', '미장단기', '거래량', '천연가스', '금','종가']]\n",
    "label_df = scaled_df['종가']"
   ]
  },
  {
   "attachments": {},
   "cell_type": "markdown",
   "metadata": {},
   "source": [
    "#### 사용한 데이터 :  내생 변수 -> 9개"
   ]
  },
  {
   "cell_type": "code",
   "execution_count": 37,
   "metadata": {},
   "outputs": [],
   "source": [
    "feature_df_2 = feature_df[['재고순환지표','경제심리지수','수출입물가비율','코스피','장단기','원달러','CD','G20','종가']]"
   ]
  },
  {
   "attachments": {},
   "cell_type": "markdown",
   "metadata": {},
   "source": [
    "## 2.tesnorflow에 사용될 데이터로 전처리"
   ]
  },
  {
   "attachments": {},
   "cell_type": "markdown",
   "metadata": {},
   "source": [
    "### 데이터프레임을 --> array형태로 \n",
    "    "
   ]
  },
  {
   "cell_type": "code",
   "execution_count": 38,
   "metadata": {},
   "outputs": [],
   "source": [
    "feature_np = feature_df_2.to_numpy()\n",
    "label_np = label_df.to_numpy()"
   ]
  },
  {
   "cell_type": "code",
   "execution_count": 39,
   "metadata": {},
   "outputs": [
    {
     "data": {
      "text/plain": [
       "(184, 9)"
      ]
     },
     "execution_count": 39,
     "metadata": {},
     "output_type": "execute_result"
    }
   ],
   "source": [
    "feature_np.shape"
   ]
  },
  {
   "attachments": {},
   "cell_type": "markdown",
   "metadata": {},
   "source": [
    "### tensorflow에서 사용하기 위한 데이터 형태 만들기 \n",
    "    - feature : 학습시킬 데이터\n",
    "    - label : 예측할 데이터\n",
    "    - window_size : 몇개 전 데이터로 다음값을 예측할 것인지\n",
    "    - return: (row 총 개수 - windows , window_size , feature 개수) , (row 총 개수 - windows, ) \n"
   ]
  },
  {
   "attachments": {},
   "cell_type": "markdown",
   "metadata": {},
   "source": [
    "#### 1. window로 3차원 텐서로 만들기"
   ]
  },
  {
   "cell_type": "code",
   "execution_count": 40,
   "metadata": {},
   "outputs": [],
   "source": [
    "def make_sequence_dataset(feature, label, window_size):\n",
    "  feature_list = []\n",
    "  label_list = []\n",
    "\n",
    "  for i in range(len(feature)-window_size):\n",
    "    feature_list.append(feature[i:i+window_size])\n",
    "    label_list.append(label[i+window_size-1])\n",
    "\n",
    "  return np.array(feature_list), np.array(label_list) # 3차원 텐서"
   ]
  },
  {
   "cell_type": "code",
   "execution_count": 41,
   "metadata": {},
   "outputs": [
    {
     "name": "stdout",
     "output_type": "stream",
     "text": [
      "(182, 2, 9) (182,)\n"
     ]
    }
   ],
   "source": [
    "window_size=2\n",
    "X, Y = make_sequence_dataset(feature_np, label_np, window_size) # batchsize, time steps ,input dims\n",
    "print(X.shape,Y.shape)"
   ]
  },
  {
   "attachments": {},
   "cell_type": "markdown",
   "metadata": {},
   "source": [
    "#### 2. train,test으로 데이터 분할\n",
    "    - split : 테스트 개수"
   ]
  },
  {
   "cell_type": "code",
   "execution_count": 42,
   "metadata": {},
   "outputs": [
    {
     "name": "stdout",
     "output_type": "stream",
     "text": [
      "(146, 2, 9) (146,) (36, 2, 9) (36,)\n"
     ]
    }
   ],
   "source": [
    "split = -36\n",
    "x_train = X[0:split]\n",
    "y_train = Y[0:split]\n",
    "\n",
    "x_test = X[split:]\n",
    "y_test = Y[split:]\n",
    "\n",
    "print(x_train.shape, y_train.shape,x_test.shape, y_test.shape)\n"
   ]
  },
  {
   "attachments": {},
   "cell_type": "markdown",
   "metadata": {},
   "source": [
    "## 3. LSTM 모델링"
   ]
  },
  {
   "cell_type": "code",
   "execution_count": 43,
   "metadata": {},
   "outputs": [
    {
     "name": "stdout",
     "output_type": "stream",
     "text": [
      "Model: \"sequential_2\"\n",
      "_________________________________________________________________\n",
      " Layer (type)                Output Shape              Param #   \n",
      "=================================================================\n",
      " lstm_6 (LSTM)               (None, 2, 256)            272384    \n",
      "                                                                 \n",
      " lstm_7 (LSTM)               (None, 2, 128)            197120    \n",
      "                                                                 \n",
      " lstm_8 (LSTM)               (None, 128)               131584    \n",
      "                                                                 \n",
      " dense_2 (Dense)             (None, 1)                 129       \n",
      "                                                                 \n",
      "=================================================================\n",
      "Total params: 601,217\n",
      "Trainable params: 601,217\n",
      "Non-trainable params: 0\n",
      "_________________________________________________________________\n"
     ]
    }
   ],
   "source": [
    "import tensorflow as tf\n",
    "from tensorflow.keras.models import Sequential\n",
    "from tensorflow.keras.layers import LSTM, Dense\n",
    "from tensorflow.keras.utils import get_custom_objects\n",
    "\n",
    "def prelu_activation(x):\n",
    "    alpha = tf.constant(0.1)  # P-ReLU 매개변수\n",
    "    return tf.keras.activations.relu(x) - alpha * tf.keras.activations.relu(-x)\n",
    "\n",
    "get_custom_objects().update({'prelu_activation': prelu_activation})\n",
    "\n",
    "\n",
    "def e_relu_activation(x):\n",
    "    alpha = tf.constant(1.0)  # e-ReLU 매개변수\n",
    "    return tf.keras.activations.relu(x) - alpha * (tf.exp(x) - 1)\n",
    "\n",
    "get_custom_objects().update({'e_relu_activation': e_relu_activation})\n",
    "\n",
    "\n",
    "# LSTM 모델 생성\n",
    "model = Sequential()\n",
    "model.add(LSTM(256, return_sequences=True, input_shape=(x_train.shape[1], x_train.shape[2]), dropout=0.18,recurrent_dropout =0.15,activation='e_relu_activation'))\n",
    "model.add(LSTM(128, return_sequences=True, dropout=0.18, recurrent_dropout=0.15,activation='tanh'))\n",
    "model.add(LSTM(128, return_sequences=False, dropout=0.18, recurrent_dropout=0.15,activation='e_relu_activation'))\n",
    "model.add(Dense(1, activation='linear'))\n",
    "model.compile(loss='mean_squared_error', optimizer='adam')\n",
    "model.summary()"
   ]
  },
  {
   "cell_type": "code",
   "execution_count": 44,
   "metadata": {},
   "outputs": [
    {
     "name": "stdout",
     "output_type": "stream",
     "text": [
      "Epoch 1/130\n",
      "25/25 [==============================] - 8s 36ms/step - loss: 1.1347 - val_loss: 0.4469\n",
      "Epoch 2/130\n",
      "25/25 [==============================] - 0s 15ms/step - loss: 1.1175 - val_loss: 0.4254\n",
      "Epoch 3/130\n",
      "25/25 [==============================] - 0s 12ms/step - loss: 0.8252 - val_loss: 0.3827\n",
      "Epoch 4/130\n",
      "25/25 [==============================] - 0s 12ms/step - loss: 0.6302 - val_loss: 0.3111\n",
      "Epoch 5/130\n",
      "25/25 [==============================] - 0s 13ms/step - loss: 0.3280 - val_loss: 0.2112\n",
      "Epoch 6/130\n",
      "25/25 [==============================] - 0s 13ms/step - loss: 0.2280 - val_loss: 0.1584\n",
      "Epoch 7/130\n",
      "25/25 [==============================] - 0s 12ms/step - loss: 0.1291 - val_loss: 0.1346\n",
      "Epoch 8/130\n",
      "25/25 [==============================] - 0s 12ms/step - loss: 0.1260 - val_loss: 0.1215\n",
      "Epoch 9/130\n",
      "25/25 [==============================] - 0s 12ms/step - loss: 0.1441 - val_loss: 0.1038\n",
      "Epoch 10/130\n",
      "25/25 [==============================] - 0s 12ms/step - loss: 0.1084 - val_loss: 0.1026\n",
      "Epoch 11/130\n",
      "25/25 [==============================] - 0s 16ms/step - loss: 0.1023 - val_loss: 0.1143\n",
      "Epoch 12/130\n",
      "25/25 [==============================] - 0s 12ms/step - loss: 0.0961 - val_loss: 0.1108\n",
      "Epoch 13/130\n",
      "25/25 [==============================] - 0s 12ms/step - loss: 0.0870 - val_loss: 0.1051\n",
      "Epoch 14/130\n",
      "25/25 [==============================] - 0s 12ms/step - loss: 0.0758 - val_loss: 0.1109\n",
      "Epoch 15/130\n",
      "25/25 [==============================] - 0s 12ms/step - loss: 0.0657 - val_loss: 0.1282\n",
      "Epoch 16/130\n",
      "25/25 [==============================] - 0s 16ms/step - loss: 0.0604 - val_loss: 0.0695\n",
      "Epoch 17/130\n",
      "25/25 [==============================] - 0s 15ms/step - loss: 0.0722 - val_loss: 0.0754\n",
      "Epoch 18/130\n",
      "25/25 [==============================] - 0s 14ms/step - loss: 0.0554 - val_loss: 0.0912\n",
      "Epoch 19/130\n",
      "25/25 [==============================] - 0s 17ms/step - loss: 0.0489 - val_loss: 0.0975\n",
      "Epoch 20/130\n",
      "25/25 [==============================] - 0s 15ms/step - loss: 0.0502 - val_loss: 0.0985\n",
      "Epoch 21/130\n",
      "25/25 [==============================] - 0s 14ms/step - loss: 0.0537 - val_loss: 0.1043\n",
      "Epoch 22/130\n",
      "25/25 [==============================] - 0s 17ms/step - loss: 0.0433 - val_loss: 0.0975\n",
      "Epoch 23/130\n",
      "25/25 [==============================] - 0s 14ms/step - loss: 0.0521 - val_loss: 0.1070\n",
      "Epoch 24/130\n",
      "25/25 [==============================] - 0s 16ms/step - loss: 0.0430 - val_loss: 0.0894\n",
      "Epoch 25/130\n",
      "25/25 [==============================] - 0s 13ms/step - loss: 0.0585 - val_loss: 0.1237\n",
      "Epoch 26/130\n",
      "25/25 [==============================] - 0s 15ms/step - loss: 0.0518 - val_loss: 0.0950\n",
      "Epoch 27/130\n",
      "25/25 [==============================] - 0s 17ms/step - loss: 0.0488 - val_loss: 0.0782\n",
      "Epoch 28/130\n",
      "25/25 [==============================] - 0s 14ms/step - loss: 0.0504 - val_loss: 0.0923\n",
      "Epoch 29/130\n",
      "25/25 [==============================] - 0s 14ms/step - loss: 0.0482 - val_loss: 0.0869\n",
      "Epoch 30/130\n",
      "25/25 [==============================] - 0s 14ms/step - loss: 0.0431 - val_loss: 0.0992\n",
      "Epoch 31/130\n",
      "25/25 [==============================] - 0s 13ms/step - loss: 0.0417 - val_loss: 0.0840\n",
      "Epoch 32/130\n",
      "25/25 [==============================] - 0s 14ms/step - loss: 0.0380 - val_loss: 0.0885\n",
      "Epoch 33/130\n",
      "25/25 [==============================] - 0s 15ms/step - loss: 0.0381 - val_loss: 0.0918\n",
      "Epoch 34/130\n",
      "25/25 [==============================] - 0s 15ms/step - loss: 0.0426 - val_loss: 0.1050\n",
      "Epoch 35/130\n",
      "25/25 [==============================] - 0s 15ms/step - loss: 0.0389 - val_loss: 0.0790\n",
      "Epoch 36/130\n",
      "25/25 [==============================] - 0s 15ms/step - loss: 0.0527 - val_loss: 0.0848\n",
      "Epoch 37/130\n",
      "25/25 [==============================] - 0s 13ms/step - loss: 0.0365 - val_loss: 0.0728\n",
      "Epoch 38/130\n",
      "25/25 [==============================] - 0s 15ms/step - loss: 0.0430 - val_loss: 0.0906\n",
      "Epoch 39/130\n",
      "25/25 [==============================] - 0s 14ms/step - loss: 0.0432 - val_loss: 0.0800\n",
      "Epoch 40/130\n",
      "25/25 [==============================] - 0s 19ms/step - loss: 0.0361 - val_loss: 0.0891\n",
      "Epoch 41/130\n",
      "25/25 [==============================] - 0s 17ms/step - loss: 0.0344 - val_loss: 0.0782\n",
      "Epoch 42/130\n",
      "25/25 [==============================] - 0s 17ms/step - loss: 0.0390 - val_loss: 0.0732\n",
      "Epoch 43/130\n",
      "25/25 [==============================] - 0s 16ms/step - loss: 0.0391 - val_loss: 0.0979\n",
      "Epoch 44/130\n",
      "25/25 [==============================] - 0s 18ms/step - loss: 0.0355 - val_loss: 0.0764\n",
      "Epoch 45/130\n",
      "25/25 [==============================] - 0s 16ms/step - loss: 0.0406 - val_loss: 0.0764\n",
      "Epoch 46/130\n",
      "25/25 [==============================] - 0s 16ms/step - loss: 0.0293 - val_loss: 0.0842\n",
      "Epoch 47/130\n",
      "25/25 [==============================] - 0s 14ms/step - loss: 0.0296 - val_loss: 0.0800\n",
      "Epoch 48/130\n",
      "25/25 [==============================] - 0s 12ms/step - loss: 0.0327 - val_loss: 0.0723\n",
      "Epoch 49/130\n",
      "25/25 [==============================] - 1s 26ms/step - loss: 0.0388 - val_loss: 0.0879\n",
      "Epoch 50/130\n",
      "25/25 [==============================] - 1s 35ms/step - loss: 0.0300 - val_loss: 0.0682\n",
      "Epoch 51/130\n",
      "25/25 [==============================] - 1s 31ms/step - loss: 0.0299 - val_loss: 0.0838\n",
      "Epoch 52/130\n",
      "25/25 [==============================] - 1s 31ms/step - loss: 0.0264 - val_loss: 0.0748\n",
      "Epoch 53/130\n",
      "25/25 [==============================] - 1s 31ms/step - loss: 0.0285 - val_loss: 0.0675\n",
      "Epoch 54/130\n",
      "25/25 [==============================] - 1s 35ms/step - loss: 0.0323 - val_loss: 0.0677\n",
      "Epoch 55/130\n",
      "25/25 [==============================] - 1s 32ms/step - loss: 0.0447 - val_loss: 0.0641\n",
      "Epoch 56/130\n",
      "25/25 [==============================] - 1s 31ms/step - loss: 0.0315 - val_loss: 0.0704\n",
      "Epoch 57/130\n",
      "25/25 [==============================] - 1s 32ms/step - loss: 0.0275 - val_loss: 0.0779\n",
      "Epoch 58/130\n",
      "25/25 [==============================] - 1s 31ms/step - loss: 0.0394 - val_loss: 0.0765\n",
      "Epoch 59/130\n",
      "25/25 [==============================] - 1s 36ms/step - loss: 0.0361 - val_loss: 0.0540\n",
      "Epoch 60/130\n",
      "25/25 [==============================] - 1s 28ms/step - loss: 0.0314 - val_loss: 0.0651\n",
      "Epoch 61/130\n",
      "25/25 [==============================] - 1s 34ms/step - loss: 0.0342 - val_loss: 0.0632\n",
      "Epoch 62/130\n",
      "25/25 [==============================] - 1s 36ms/step - loss: 0.0387 - val_loss: 0.0675\n",
      "Epoch 63/130\n",
      "25/25 [==============================] - 1s 33ms/step - loss: 0.0347 - val_loss: 0.0643\n",
      "Epoch 64/130\n",
      "25/25 [==============================] - 1s 28ms/step - loss: 0.0301 - val_loss: 0.0787\n",
      "Epoch 65/130\n",
      "25/25 [==============================] - 1s 28ms/step - loss: 0.0289 - val_loss: 0.0661\n",
      "Epoch 66/130\n",
      "25/25 [==============================] - 1s 32ms/step - loss: 0.0294 - val_loss: 0.0931\n",
      "Epoch 67/130\n",
      "25/25 [==============================] - 0s 12ms/step - loss: 0.0312 - val_loss: 0.0769\n",
      "Epoch 68/130\n",
      "25/25 [==============================] - 0s 12ms/step - loss: 0.0317 - val_loss: 0.0620\n",
      "Epoch 69/130\n",
      "25/25 [==============================] - 0s 12ms/step - loss: 0.0383 - val_loss: 0.0630\n",
      "Epoch 70/130\n",
      "25/25 [==============================] - 0s 12ms/step - loss: 0.0288 - val_loss: 0.0683\n",
      "Epoch 71/130\n",
      "25/25 [==============================] - 0s 12ms/step - loss: 0.0299 - val_loss: 0.0738\n",
      "Epoch 72/130\n",
      "25/25 [==============================] - 0s 12ms/step - loss: 0.0249 - val_loss: 0.0638\n",
      "Epoch 73/130\n",
      "25/25 [==============================] - 0s 12ms/step - loss: 0.0283 - val_loss: 0.0653\n",
      "Epoch 74/130\n",
      "25/25 [==============================] - 0s 13ms/step - loss: 0.0268 - val_loss: 0.0840\n",
      "Epoch 75/130\n",
      "25/25 [==============================] - 0s 12ms/step - loss: 0.0278 - val_loss: 0.0696\n",
      "Epoch 76/130\n",
      "25/25 [==============================] - 0s 12ms/step - loss: 0.0278 - val_loss: 0.0712\n",
      "Epoch 77/130\n",
      "25/25 [==============================] - 0s 12ms/step - loss: 0.0237 - val_loss: 0.0767\n",
      "Epoch 78/130\n",
      "25/25 [==============================] - 0s 18ms/step - loss: 0.0293 - val_loss: 0.0721\n",
      "Epoch 79/130\n",
      "25/25 [==============================] - 0s 15ms/step - loss: 0.0224 - val_loss: 0.0516\n",
      "Epoch 80/130\n",
      "25/25 [==============================] - 0s 17ms/step - loss: 0.0213 - val_loss: 0.0574\n",
      "Epoch 81/130\n",
      "25/25 [==============================] - 0s 15ms/step - loss: 0.0257 - val_loss: 0.0638\n",
      "Epoch 82/130\n",
      "25/25 [==============================] - 0s 15ms/step - loss: 0.0221 - val_loss: 0.0696\n",
      "Epoch 83/130\n",
      "25/25 [==============================] - 0s 16ms/step - loss: 0.0237 - val_loss: 0.0702\n",
      "Epoch 84/130\n",
      "25/25 [==============================] - 0s 15ms/step - loss: 0.0301 - val_loss: 0.0594\n",
      "Epoch 85/130\n",
      "25/25 [==============================] - 0s 17ms/step - loss: 0.0273 - val_loss: 0.0618\n",
      "Epoch 86/130\n",
      "25/25 [==============================] - 0s 14ms/step - loss: 0.0287 - val_loss: 0.0643\n",
      "Epoch 87/130\n",
      "25/25 [==============================] - 0s 16ms/step - loss: 0.0299 - val_loss: 0.0689\n",
      "Epoch 88/130\n",
      "25/25 [==============================] - 0s 15ms/step - loss: 0.0286 - val_loss: 0.0928\n",
      "Epoch 89/130\n",
      "25/25 [==============================] - 0s 13ms/step - loss: 0.0235 - val_loss: 0.0707\n",
      "Epoch 90/130\n",
      "25/25 [==============================] - 0s 14ms/step - loss: 0.0211 - val_loss: 0.0756\n",
      "Epoch 91/130\n",
      "25/25 [==============================] - 0s 16ms/step - loss: 0.0262 - val_loss: 0.0778\n",
      "Epoch 92/130\n",
      "25/25 [==============================] - 0s 13ms/step - loss: 0.0253 - val_loss: 0.0868\n",
      "Epoch 93/130\n",
      "25/25 [==============================] - 0s 17ms/step - loss: 0.0193 - val_loss: 0.0741\n",
      "Epoch 94/130\n",
      "25/25 [==============================] - 0s 13ms/step - loss: 0.0244 - val_loss: 0.0878\n",
      "Epoch 95/130\n",
      "25/25 [==============================] - 0s 14ms/step - loss: 0.0219 - val_loss: 0.0917\n",
      "Epoch 96/130\n",
      "25/25 [==============================] - 0s 14ms/step - loss: 0.0214 - val_loss: 0.0946\n",
      "Epoch 97/130\n",
      "25/25 [==============================] - 0s 13ms/step - loss: 0.0215 - val_loss: 0.0876\n",
      "Epoch 98/130\n",
      "25/25 [==============================] - 0s 13ms/step - loss: 0.0201 - val_loss: 0.0810\n",
      "Epoch 99/130\n",
      "25/25 [==============================] - 0s 16ms/step - loss: 0.0218 - val_loss: 0.0692\n",
      "Epoch 100/130\n",
      "25/25 [==============================] - 0s 14ms/step - loss: 0.0193 - val_loss: 0.0773\n",
      "Epoch 101/130\n",
      "25/25 [==============================] - 0s 14ms/step - loss: 0.0163 - val_loss: 0.0898\n",
      "Epoch 102/130\n",
      "25/25 [==============================] - 0s 13ms/step - loss: 0.0198 - val_loss: 0.0826\n",
      "Epoch 103/130\n",
      "25/25 [==============================] - 0s 15ms/step - loss: 0.0195 - val_loss: 0.0797\n",
      "Epoch 104/130\n",
      "25/25 [==============================] - 0s 14ms/step - loss: 0.0260 - val_loss: 0.0754\n",
      "Epoch 105/130\n",
      "25/25 [==============================] - 0s 13ms/step - loss: 0.0237 - val_loss: 0.0803\n",
      "Epoch 106/130\n",
      "25/25 [==============================] - 0s 16ms/step - loss: 0.0184 - val_loss: 0.0805\n",
      "Epoch 107/130\n",
      "25/25 [==============================] - 0s 14ms/step - loss: 0.0225 - val_loss: 0.0707\n",
      "Epoch 108/130\n",
      "25/25 [==============================] - 0s 18ms/step - loss: 0.0208 - val_loss: 0.0930\n",
      "Epoch 109/130\n",
      "25/25 [==============================] - 0s 14ms/step - loss: 0.0251 - val_loss: 0.0767\n",
      "Epoch 110/130\n",
      "25/25 [==============================] - 0s 17ms/step - loss: 0.0201 - val_loss: 0.0996\n",
      "Epoch 111/130\n",
      "25/25 [==============================] - 1s 23ms/step - loss: 0.0228 - val_loss: 0.1153\n",
      "Epoch 112/130\n",
      "25/25 [==============================] - 1s 26ms/step - loss: 0.0200 - val_loss: 0.1119\n",
      "Epoch 113/130\n",
      "25/25 [==============================] - 1s 20ms/step - loss: 0.0249 - val_loss: 0.0970\n",
      "Epoch 114/130\n",
      "25/25 [==============================] - 1s 21ms/step - loss: 0.0174 - val_loss: 0.0986\n",
      "Epoch 115/130\n",
      "25/25 [==============================] - 0s 19ms/step - loss: 0.0208 - val_loss: 0.0812\n",
      "Epoch 116/130\n",
      "25/25 [==============================] - 1s 20ms/step - loss: 0.0205 - val_loss: 0.0659\n",
      "Epoch 117/130\n",
      "25/25 [==============================] - 0s 18ms/step - loss: 0.0203 - val_loss: 0.0729\n",
      "Epoch 118/130\n",
      "25/25 [==============================] - 0s 19ms/step - loss: 0.0152 - val_loss: 0.0690\n",
      "Epoch 119/130\n",
      "25/25 [==============================] - 1s 21ms/step - loss: 0.0239 - val_loss: 0.0575\n",
      "Epoch 120/130\n",
      "25/25 [==============================] - 1s 21ms/step - loss: 0.0190 - val_loss: 0.0801\n",
      "Epoch 121/130\n",
      "25/25 [==============================] - 0s 18ms/step - loss: 0.0191 - val_loss: 0.0761\n",
      "Epoch 122/130\n",
      "25/25 [==============================] - 0s 18ms/step - loss: 0.0191 - val_loss: 0.0822\n",
      "Epoch 123/130\n",
      "25/25 [==============================] - 0s 17ms/step - loss: 0.0237 - val_loss: 0.0966\n",
      "Epoch 124/130\n",
      "25/25 [==============================] - 0s 18ms/step - loss: 0.0247 - val_loss: 0.0806\n",
      "Epoch 125/130\n",
      "25/25 [==============================] - 1s 21ms/step - loss: 0.0182 - val_loss: 0.0552\n",
      "Epoch 126/130\n",
      "25/25 [==============================] - 0s 19ms/step - loss: 0.0166 - val_loss: 0.0646\n",
      "Epoch 127/130\n",
      "25/25 [==============================] - 0s 19ms/step - loss: 0.0201 - val_loss: 0.0678\n",
      "Epoch 128/130\n",
      "25/25 [==============================] - 0s 18ms/step - loss: 0.0204 - val_loss: 0.0887\n",
      "Epoch 129/130\n",
      "25/25 [==============================] - 1s 21ms/step - loss: 0.0165 - val_loss: 0.0593\n",
      "Epoch 130/130\n",
      "25/25 [==============================] - 1s 22ms/step - loss: 0.0242 - val_loss: 0.0818\n"
     ]
    },
    {
     "data": {
      "text/plain": [
       "<keras.callbacks.History at 0x152b611c100>"
      ]
     },
     "execution_count": 44,
     "metadata": {},
     "output_type": "execute_result"
    }
   ],
   "source": [
    "# early_stop = EarlyStopping(monitor='val_loss', patience=5)\n",
    "model.fit(x_train, y_train, validation_data=(x_test, y_test), epochs=130, batch_size=6, verbose=1)\n"
   ]
  },
  {
   "attachments": {},
   "cell_type": "markdown",
   "metadata": {},
   "source": [
    "## 4.예측 및 시각화"
   ]
  },
  {
   "cell_type": "code",
   "execution_count": 45,
   "metadata": {},
   "outputs": [
    {
     "name": "stdout",
     "output_type": "stream",
     "text": [
      "2/2 [==============================] - 1s 7ms/step\n"
     ]
    },
    {
     "data": {
      "image/png": "[encoded data removed]",
      "text/plain": [
       "<Figure size 1000x600 with 1 Axes>"
      ]
     },
     "metadata": {},
     "output_type": "display_data"
    }
   ],
   "source": [
    "# 예측\n",
    "val_predict = model.predict(x_test)\n",
    "\n",
    "# 역 변환기\n",
    "scaler_y = StandardScaler()\n",
    "scaled_data_y = scaler_y.fit_transform(df.iloc[:, -1].values.reshape(-1,1))\n",
    "\n",
    "# 예측 값 스케일 역변환\n",
    "val_predict = scaler_y.inverse_transform(val_predict)\n",
    "\n",
    "# 실제 값 스케일 역변환\n",
    "y_train = scaler_y.inverse_transform(y_train.reshape(-1,1))\n",
    "y_test = scaler_y.inverse_transform(y_test.reshape(-1,1))\n",
    "\n",
    "plt.figure(figsize=(10,6))\n",
    "# Add the training set to the plot:\n",
    "plt.plot(y_train, color='green', label='Train')\n",
    "# Plot the test and prediction data:\n",
    "plt.plot(range(len(y_train), len(y_train)+len(y_test)), y_test, color='blue', label='Real')\n",
    "plt.plot(range(len(y_train), len(y_train)+len(y_test)), val_predict, color='red', label='Prediction')\n",
    "plt.title('Stock Price Prediction')\n",
    "plt.xlabel('Time')\n",
    "plt.ylabel('Stock Price')\n",
    "plt.legend()\n",
    "plt.show()\n",
    "\n",
    "\n"
   ]
  },
  {
   "cell_type": "code",
   "execution_count": 46,
   "metadata": {},
   "outputs": [
    {
     "name": "stdout",
     "output_type": "stream",
     "text": [
      "36\n"
     ]
    }
   ],
   "source": [
    "print(len(val_predict))"
   ]
  },
  {
   "cell_type": "code",
   "execution_count": 47,
   "metadata": {},
   "outputs": [
    {
     "data": {
      "image/png": "[encoded data removed]",
      "text/plain": [
       "<Figure size 700x400 with 1 Axes>"
      ]
     },
     "metadata": {},
     "output_type": "display_data"
    }
   ],
   "source": [
    "# 예측\n",
    "\n",
    "plt.figure(figsize=(7,4))\n",
    "plt.title('예측, window_size=2')\n",
    "plt.ylabel('price(won)')\n",
    "plt.xlabel('period(month)')\n",
    "plt.grid()\n",
    "plt.plot(val_predict[2:], label = 'Prediction', color='r')\n",
    "plt.plot(y_test[2:], label = 'actual', color='b')\n",
    "plt.legend(loc='best')\n",
    "plt.show()"
   ]
  },
  {
   "attachments": {},
   "cell_type": "markdown",
   "metadata": {},
   "source": [
    "## 5. 평가지표"
   ]
  },
  {
   "cell_type": "code",
   "execution_count": 48,
   "metadata": {},
   "outputs": [
    {
     "name": "stdout",
     "output_type": "stream",
     "text": [
      "MAE: 77.613206\n",
      "MSE: 10704.908839\n",
      "RMSE: 103.464529\n",
      "MAPE: 0.058895\n"
     ]
    }
   ],
   "source": [
    "from sklearn.metrics import mean_absolute_error\n",
    "from sklearn.metrics import mean_squared_error\n",
    "from sklearn.metrics import mean_absolute_percentage_error\n",
    "\n",
    "#Calculate mean absolute error\n",
    "mae = mean_absolute_error(val_predict[2:],y_test[2:])\n",
    "print('MAE: %f' % mae)\n",
    "\n",
    "#Calculate mean squared error and root mean squared error\n",
    "mse = mean_squared_error(val_predict[2:], y_test[2:])\n",
    "print('MSE: %f' % mse)\n",
    "rmse = np.sqrt(mse)\n",
    "print('RMSE: %f' % rmse)\n",
    "\n",
    "#Calculate mean_absolute_percentage_error\n",
    "mape = mean_absolute_percentage_error(val_predict[2:],y_test[2:])\n",
    "print('MAPE: %f' % mape)"
   ]
  }
 ],
 "metadata": {
  "kernelspec": {
   "display_name": "Python 3",
   "language": "python",
   "name": "python3"
  },
  "language_info": {
   "codemirror_mode": {
    "name": "ipython",
    "version": 3
   },
   "file_extension": ".py",
   "mimetype": "text/x-python",
   "name": "python",
   "nbconvert_exporter": "python",
   "pygments_lexer": "ipython3",
   "version": "3.10.9"
  },
  "orig_nbformat": 4
 },
 "nbformat": 4,
 "nbformat_minor": 2
}
